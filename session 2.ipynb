{
 "cells": [
  {
   "cell_type": "code",
   "execution_count": 1,
   "id": "b3663967-f74a-4ce5-84c6-8b5afe2e7825",
   "metadata": {},
   "outputs": [],
   "source": [
    "# oops= oops is a tecnique to bulid real world application using classes and object"
   ]
  },
  {
   "cell_type": "code",
   "execution_count": 3,
   "id": "86819cfd-e30e-4e54-8a85-3e538bd92b94",
   "metadata": {},
   "outputs": [],
   "source": [
    "# types of oops\n",
    "# 1)classes\n",
    "# 2)object\n",
    "# 3)inheritance\n",
    "# 4)polymorohisum\n",
    "# 5)encapsulation\n",
    "# 6)Abstraction"
   ]
  },
  {
   "cell_type": "code",
   "execution_count": 4,
   "id": "799fed7a-5198-4889-80a7-c89636a16801",
   "metadata": {},
   "outputs": [],
   "source": [
    "# class=collection of object or it is blueprint of an object"
   ]
  },
  {
   "cell_type": "code",
   "execution_count": 5,
   "id": "3b9a50e6-19d5-423d-b8ec-bfa603c5ce49",
   "metadata": {},
   "outputs": [],
   "source": [
    "# object=is intance(example) of class"
   ]
  },
  {
   "cell_type": "code",
   "execution_count": 6,
   "id": "deb29901-5e8c-477f-94f4-15dfb58a46a6",
   "metadata": {},
   "outputs": [],
   "source": [
    "# creating a class"
   ]
  },
  {
   "cell_type": "code",
   "execution_count": 1,
   "id": "9b2c542d-d1cc-4f5d-bb4d-bf278ee1ae51",
   "metadata": {},
   "outputs": [],
   "source": [
    "class Person:\n",
    "    def properties(self):\n",
    "        self.name=\"Pratik\"\n",
    "        self.age=28\n",
    "        self.salary=25000\n",
    "    def print_info(self):\n",
    "        print(f\"Hii my name is {self.name} and my age is {self.age} and my salary is {self.salary}\")"
   ]
  },
  {
   "cell_type": "code",
   "execution_count": 2,
   "id": "261e2269-1a1f-4d69-93dd-c9a344a34a1c",
   "metadata": {},
   "outputs": [],
   "source": [
    "p1=Person()"
   ]
  },
  {
   "cell_type": "code",
   "execution_count": 3,
   "id": "6a1afb43-ff96-4f94-ac32-f56d612bbf47",
   "metadata": {},
   "outputs": [],
   "source": [
    "p1.properties()"
   ]
  },
  {
   "cell_type": "code",
   "execution_count": 4,
   "id": "dc75fcef-3d9e-4fde-85c5-a2995517a11c",
   "metadata": {},
   "outputs": [
    {
     "name": "stdout",
     "output_type": "stream",
     "text": [
      "Hii my name is Pratik and my age is 28 and my salary is 25000\n"
     ]
    }
   ],
   "source": [
    "p1.print_info()"
   ]
  },
  {
   "cell_type": "code",
   "execution_count": 5,
   "id": "4520bb0a-20fc-4126-8d6d-4445aca1152e",
   "metadata": {},
   "outputs": [],
   "source": [
    "p2=Person()"
   ]
  },
  {
   "cell_type": "code",
   "execution_count": 6,
   "id": "a52d20aa-add2-40fd-9b64-f9333f510e68",
   "metadata": {},
   "outputs": [],
   "source": [
    "p2.properties()"
   ]
  },
  {
   "cell_type": "code",
   "execution_count": 7,
   "id": "ce08da31-7eec-4559-91b1-07be175c2124",
   "metadata": {},
   "outputs": [
    {
     "name": "stdout",
     "output_type": "stream",
     "text": [
      "Hii my name is Pratik and my age is 28 and my salary is 25000\n"
     ]
    }
   ],
   "source": [
    "p2.print_info()"
   ]
  },
  {
   "cell_type": "code",
   "execution_count": 9,
   "id": "074ac430-22fb-45f6-81da-09b706d44b82",
   "metadata": {},
   "outputs": [],
   "source": [
    "class Student:\n",
    "    def info(self,name,age,marks):\n",
    "        self.name=name\n",
    "        self.age=age\n",
    "        self.marks=marks\n",
    "    def printData(self):\n",
    "        print(f\"HEllo my name is {self.name} and my age is {self.age}\")"
   ]
  },
  {
   "cell_type": "code",
   "execution_count": 10,
   "id": "52247fe3-2d2b-4126-bf57-f776cc260c4c",
   "metadata": {},
   "outputs": [],
   "source": [
    "s1=Student()"
   ]
  },
  {
   "cell_type": "code",
   "execution_count": 11,
   "id": "de614a31-e4cb-4e5b-a8f9-39b2d2f71d10",
   "metadata": {},
   "outputs": [],
   "source": [
    "s1.info('Ankita',17,56.78)"
   ]
  },
  {
   "cell_type": "code",
   "execution_count": 12,
   "id": "954ac116-39b0-48a4-b63e-a0547625ca17",
   "metadata": {},
   "outputs": [
    {
     "name": "stdout",
     "output_type": "stream",
     "text": [
      "HEllo my name is Ankita and my age is 17\n"
     ]
    }
   ],
   "source": [
    "s1.printData()"
   ]
  },
  {
   "cell_type": "code",
   "execution_count": 13,
   "id": "d559d519-fc69-4a90-ada8-d5a57f04550a",
   "metadata": {},
   "outputs": [],
   "source": [
    "s2=Student()"
   ]
  },
  {
   "cell_type": "code",
   "execution_count": 14,
   "id": "bf02a6a0-f5dd-4e3a-8862-869bfdfe6f45",
   "metadata": {},
   "outputs": [],
   "source": [
    "s2.info('Prashant',22,67.90)"
   ]
  },
  {
   "cell_type": "code",
   "execution_count": 15,
   "id": "39510641-2a32-4349-ab24-efde4b45f5f3",
   "metadata": {},
   "outputs": [
    {
     "name": "stdout",
     "output_type": "stream",
     "text": [
      "HEllo my name is Prashant and my age is 22\n"
     ]
    }
   ],
   "source": [
    "s2.printData()"
   ]
  },
  {
   "cell_type": "markdown",
   "id": "4fa92563-44b7-43da-8492-f092b4da2ba7",
   "metadata": {},
   "source": [
    "# Constructor"
   ]
  },
  {
   "cell_type": "code",
   "execution_count": 28,
   "id": "2080b91a-9830-49a1-bc59-ecf135865c46",
   "metadata": {},
   "outputs": [],
   "source": [
    "# it is function which is automatically called when object is created"
   ]
  },
  {
   "cell_type": "code",
   "execution_count": 16,
   "id": "7a088283-8595-4862-ae7d-55ff392a7ffb",
   "metadata": {},
   "outputs": [],
   "source": [
    "class greet:\n",
    "    def __init__(self):\n",
    "        print(\"Welcome to Etlhive\")"
   ]
  },
  {
   "cell_type": "code",
   "execution_count": 17,
   "id": "fe0d58ce-a016-4f21-a96a-e1c870be3e67",
   "metadata": {},
   "outputs": [
    {
     "name": "stdout",
     "output_type": "stream",
     "text": [
      "Welcome to Etlhive\n"
     ]
    }
   ],
   "source": [
    "g=greet()"
   ]
  },
  {
   "cell_type": "code",
   "execution_count": 18,
   "id": "ea302886-5601-49fe-bfba-757ea4bd09cf",
   "metadata": {},
   "outputs": [],
   "source": [
    "class add:\n",
    "    def __init__(self):\n",
    "        self.a=10\n",
    "        self.b=15\n",
    "        print(f\"Addition={self.a+self.b}\")"
   ]
  },
  {
   "cell_type": "code",
   "execution_count": 19,
   "id": "28ff7a65-6a85-4ada-bb65-fe9c092755e1",
   "metadata": {},
   "outputs": [
    {
     "name": "stdout",
     "output_type": "stream",
     "text": [
      "Addition=25\n"
     ]
    }
   ],
   "source": [
    "a1=add()"
   ]
  },
  {
   "cell_type": "code",
   "execution_count": 20,
   "id": "7675a295-220c-4293-bfcb-cb05e69f2484",
   "metadata": {},
   "outputs": [],
   "source": [
    "class Employee:\n",
    "    def __init__(self,name):\n",
    "        self.name=name\n",
    "        print(f\"{self.name} is on leave\")"
   ]
  },
  {
   "cell_type": "code",
   "execution_count": 21,
   "id": "1857ce69-3a85-4dda-b16f-f1b8ecc4972e",
   "metadata": {},
   "outputs": [
    {
     "name": "stdout",
     "output_type": "stream",
     "text": [
      "Prashant is on leave\n"
     ]
    }
   ],
   "source": [
    "emp1=Employee('Prashant')"
   ]
  },
  {
   "cell_type": "code",
   "execution_count": 22,
   "id": "aa26c622-5cc6-489e-a109-c3078be09f2f",
   "metadata": {},
   "outputs": [
    {
     "name": "stdout",
     "output_type": "stream",
     "text": [
      "Ankita is on leave\n"
     ]
    }
   ],
   "source": [
    "emp2=Employee('Ankita')"
   ]
  },
  {
   "cell_type": "code",
   "execution_count": 23,
   "id": "0ff5d11d-a9e3-4d24-84fb-59d4794e7a57",
   "metadata": {},
   "outputs": [],
   "source": [
    "# Bank account example"
   ]
  },
  {
   "cell_type": "code",
   "execution_count": 24,
   "id": "2261f27e-6ed9-414c-85fe-d1f480e648f6",
   "metadata": {},
   "outputs": [],
   "source": [
    "class Bank:\n",
    "    def __init__(self,account_no,account_holder_name,balance):\n",
    "        self.account_no=account_no\n",
    "        self.account_holder_name=account_holder_name\n",
    "        self.balance=balance\n",
    "        print(f\"account_no={self.account_no}\\naccount_holder_name={self.account_holder_name}\\nbalance={self.balance}\")\n",
    "    def deposit(self,deposit_amount):\n",
    "        self.deposit_amount=deposit_amount\n",
    "        self.balance=self.balance+self.deposit_amount\n",
    "        print(f\"The total amount after deposit of {self.deposit_amount} is {self.balance}\")\n",
    "    def withdraw(self,withdraw_amount):\n",
    "        self.withdraw_amount=withdraw_amount\n",
    "        if self.withdraw_amount<=self.balance:\n",
    "            self.balance=self.balance-self.withdraw_amount\n",
    "            print(f\"The total amount after withdraw of {self.withdraw_amount} is {self.balance}\")"
   ]
  },
  {
   "cell_type": "code",
   "execution_count": 25,
   "id": "45c85ac4-68e0-4b83-9681-b3fe6d479401",
   "metadata": {},
   "outputs": [
    {
     "name": "stdout",
     "output_type": "stream",
     "text": [
      "account_no=23456789234567\n",
      "account_holder_name=Shivani\n",
      "balance=8000\n"
     ]
    }
   ],
   "source": [
    "b1=Bank('23456789234567','Shivani',8000)"
   ]
  },
  {
   "cell_type": "code",
   "execution_count": 26,
   "id": "5f8bc38e-14b5-411c-a3c8-c154e4129eb2",
   "metadata": {},
   "outputs": [
    {
     "name": "stdout",
     "output_type": "stream",
     "text": [
      "The total amount after deposit of 4000 is 12000\n"
     ]
    }
   ],
   "source": [
    "b1.deposit(4000)"
   ]
  },
  {
   "cell_type": "code",
   "execution_count": 27,
   "id": "cbbe2654-e14e-425e-b908-0b8948c06f65",
   "metadata": {},
   "outputs": [
    {
     "name": "stdout",
     "output_type": "stream",
     "text": [
      "The total amount after withdraw of 10000 is 2000\n"
     ]
    }
   ],
   "source": [
    "b1.withdraw(10000)"
   ]
  },
  {
   "cell_type": "code",
   "execution_count": null,
   "id": "8cc31217-af05-47ce-9c7a-93a74f418ca4",
   "metadata": {},
   "outputs": [],
   "source": []
  }
 ],
 "metadata": {
  "kernelspec": {
   "display_name": "Python [conda env:base] *",
   "language": "python",
   "name": "conda-base-py"
  },
  "language_info": {
   "codemirror_mode": {
    "name": "ipython",
    "version": 3
   },
   "file_extension": ".py",
   "mimetype": "text/x-python",
   "name": "python",
   "nbconvert_exporter": "python",
   "pygments_lexer": "ipython3",
   "version": "3.13.5"
  }
 },
 "nbformat": 4,
 "nbformat_minor": 5
}
